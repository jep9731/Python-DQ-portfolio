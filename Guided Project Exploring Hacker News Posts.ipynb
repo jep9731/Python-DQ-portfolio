{
 "cells": [
  {
   "cell_type": "markdown",
   "metadata": {
    "collapsed": true
   },
   "source": [
    "# Guided Project: Exploring Hacker News Posts"
   ]
  },
  {
   "attachments": {
    "hacker_news.jpg": {
     "image/jpeg": "[encoded data removed]"
    }
   },
   "cell_type": "markdown",
   "metadata": {},
   "source": [
    "## Introduction\n",
    "\n",
    "In this project, we'll work with a dataset of submissions to popular technology site [Hacker News](https://news.ycombinator.com/).\n",
    "\n",
    "![hacker_news.jpg](attachment:hacker_news.jpg)\n",
    "\n",
    "Hacker News is a site started by the startup incubator Y Combinator, where user-submitted stories (known as \"posts\") receive votes and comments, similar to reddit. Hacker News is extremely popular in technology and startup circles, and posts that make it to the top of the Hacker News listings can get hundreds of thousands of visitors as a result.\n",
    "\n",
    "You can find the data set [here](https://www.kaggle.com/datasets/hacker-news/hacker-news-posts), but note that we have reduced from almost 300,000 rows to approximately 20,000 rows by removing all submissions that didn't receive any comments and then randomly sampling from the remaining submissions. You can download this downsampled data from the jupyter notebook workspace by clicking File -> Open -> hacker_news.csv -> File -> Download. \n",
    "\n",
    "Below are descriptions of the columns: \n",
    "\n",
    "* id: the unique identifier from Hacker News for the post\n",
    "* title: the title of the post\n",
    "* url: the URL that the posts links to, if the post has a URL\n",
    "* num_points: the number of points the post acquired, calculated as the total number of upvotes minus the total number of downvotes\n",
    "* num_comments: the number of comments on the post\n",
    "* author: the username of the person who submitted the post\n",
    "* created_at: the date and time of the post's submission\n",
    "\n",
    "We're specifically interested in posts with titles that begin with either `Ask HN` or `Show HN`. Users submit `Ask HN` posts to ask the Hacker News community a specific question. Below are a few examples:\n",
    "\n",
    "`\n",
    "Ask HN: How to improve my personal website?\n",
    "Ask HN: Am I the only one outraged by Twitter shutting down share counts?\n",
    "Ask HN: Aby recent changes to CSS that broke mobile?\n",
    "`\n",
    "\n",
    "Likewise, users submit `Show HN` posts to show the Hacker News community a project, product, or just something interesting. Below are a few examples:\n",
    "\n",
    "`\n",
    "Show HN: Wio Link  ESP8266 Based Web of Things Hardware Development Platform'\n",
    "Show HN: Something pointless I made\n",
    "Show HN: Shanhu.io, a programming playground powered by e8vm\n",
    "`\n",
    "\n",
    "We'll compare these two types of posts to determine the following:\n",
    "\n",
    "* Do `Ask HN` or `Show HN` receive more comments on average?\n",
    "* Do posts created at a certain time receive more comments on average?"
   ]
  },
  {
   "cell_type": "markdown",
   "metadata": {},
   "source": [
    "### Instructions\n",
    "\n",
    "1. Read the hacker_news.csv file in as a list of lists.\n",
    "      * Assign the result to the variable hn.\n",
    "2. Display the first five rows of hn."
   ]
  },
  {
   "cell_type": "code",
   "execution_count": 1,
   "metadata": {
    "scrolled": true
   },
   "outputs": [
    {
     "name": "stdout",
     "output_type": "stream",
     "text": [
      "[['id', 'title', 'url', 'num_points', 'num_comments', 'author', 'created_at'], ['12224879', 'Interactive Dynamic Video', 'http://www.interactivedynamicvideo.com/', '386', '52', 'ne0phyte', '8/4/2016 11:52'], ['10975351', 'How to Use Open Source and Shut the Fuck Up at the Same Time', 'http://hueniverse.com/2016/01/26/how-to-use-open-source-and-shut-the-fuck-up-at-the-same-time/', '39', '10', 'josep2', '1/26/2016 19:30'], ['11964716', \"Florida DJs May Face Felony for April Fools' Water Joke\", 'http://www.thewire.com/entertainment/2013/04/florida-djs-april-fools-water-joke/63798/', '2', '1', 'vezycash', '6/23/2016 22:20'], ['11919867', 'Technology ventures: From Idea to Enterprise', 'https://www.amazon.com/Technology-Ventures-Enterprise-Thomas-Byers/dp/0073523429', '3', '1', 'hswarna', '6/17/2016 0:01']]\n"
     ]
    }
   ],
   "source": [
    "# Reading hacker_news csv file as a list of lists\n",
    "from csv import reader\n",
    "opened_file = open(\"hacker_news.csv\")\n",
    "read_file = reader(opened_file)\n",
    "hn = list(read_file)\n",
    "\n",
    "# Display the first five rows of hn\n",
    "print(hn[:5])"
   ]
  },
  {
   "cell_type": "markdown",
   "metadata": {},
   "source": [
    "## Removing Headers from a List of Lists\n",
    "\n",
    "On the previous screen, we read our data into a list of lists called `hn`. When you displayed the first five rows of `hn`, you should've seen the following data:\n",
    "\n",
    "`\n",
    "[\n",
    "    ['id', 'title', 'url', 'num_points', 'num_comments', 'author', 'created_at'], \n",
    "    ['12224879', 'Interactive Dynamic Video', 'http://www.interactivedynamicvideo.com/', '386', '52', 'ne0phyte', '8/4/2016 11:52'], \n",
    "    ['10975351', 'How to Use Open Source and Shut the Fuck Up at the Same Time', 'http://hueniverse.com/2016/01/26/how-to-use-open-source-and-shut-the-fuck-up-at-the-same-time/', '39', '10', 'josep2', '1/26/2016 19:30'], \n",
    "    ['11964716', \"Florida DJs May Face Felony for April Fools' Water Joke\", 'http://www.thewire.com/entertainment/2013/04/florida-djs-april-fools-water-joke/63798/', '2', '1', 'vezycash', '6/23/2016 22:20'], \n",
    "    ['11919867', 'Technology ventures: From Idea to Enterprise', 'https://www.amazon.com/Technology-Ventures-Enterprise-Thomas-Byers/dp/0073523429', '3', '1', 'hswarna', '6/17/2016 0:01']\n",
    "]\n",
    "`\n",
    "\n",
    "Notice that the first list in the inner lists contains the column headers, and the lists after contain the data for one row. In order to analyze our data, we need to first remove the row containing the column headers."
   ]
  },
  {
   "cell_type": "markdown",
   "metadata": {},
   "source": [
    "### Instructions\n",
    "\n",
    "1. Extract the first row of data, and assign it to the variable headers.\n",
    "2. Remove the first row from hn.\n",
    "3. Display headers.\n",
    "4. Display the first five rows of hn to verify that you removed the header row properly."
   ]
  },
  {
   "cell_type": "code",
   "execution_count": 2,
   "metadata": {},
   "outputs": [
    {
     "name": "stdout",
     "output_type": "stream",
     "text": [
      "['id', 'title', 'url', 'num_points', 'num_comments', 'author', 'created_at']\n",
      "[['12224879', 'Interactive Dynamic Video', 'http://www.interactivedynamicvideo.com/', '386', '52', 'ne0phyte', '8/4/2016 11:52'], ['10975351', 'How to Use Open Source and Shut the Fuck Up at the Same Time', 'http://hueniverse.com/2016/01/26/how-to-use-open-source-and-shut-the-fuck-up-at-the-same-time/', '39', '10', 'josep2', '1/26/2016 19:30'], ['11964716', \"Florida DJs May Face Felony for April Fools' Water Joke\", 'http://www.thewire.com/entertainment/2013/04/florida-djs-april-fools-water-joke/63798/', '2', '1', 'vezycash', '6/23/2016 22:20'], ['11919867', 'Technology ventures: From Idea to Enterprise', 'https://www.amazon.com/Technology-Ventures-Enterprise-Thomas-Byers/dp/0073523429', '3', '1', 'hswarna', '6/17/2016 0:01'], ['10301696', 'Note by Note: The Making of Steinway L1037 (2007)', 'http://www.nytimes.com/2007/11/07/movies/07stein.html?_r=0', '8', '2', 'walterbell', '9/30/2015 4:12']]\n"
     ]
    }
   ],
   "source": [
    "# Extract the first row of data and assign it to the variable headers\n",
    "headers = hn[0]\n",
    "\n",
    "# remvove first row from hn\n",
    "hn = hn[1:]\n",
    "\n",
    "# Display headers variable\n",
    "print(headers)\n",
    "\n",
    "# Display first five rows of hn to verify that you removed the header row\n",
    "print(hn[:5])"
   ]
  },
  {
   "cell_type": "markdown",
   "metadata": {},
   "source": [
    "## Extracting Ask HN and Show HN Posts\n",
    "\n",
    "Since we're only concerned with post titles beginning with `Ask HN` or `Show HN`, we'll create new lists of lists containing just the data for those titles. \n",
    "\n",
    "To find the posts that begin with either `Ask HN` or `Show HN`, we'll use the string method `startswith`. Given a string object, say, `string1`, we can check if starts with, say, `dq` by inspecting the output of the object `string1.startswith('dq')`. If `string1` starts with `dq`, it will return `True`; otherwise, it will return `False`. \n",
    "\n",
    "`\n",
    "print('dataquest'.startswith('Data'))\n",
    "print('dataquest'.startswith('data'))\n",
    "`\n",
    "\n",
    "`\n",
    "False\n",
    "True\n",
    "`\n",
    "\n",
    "In the example above, the first print call gives us `False` because dataquest does not start with `Data`. The second print call prints `True` because dataquest does start with `data`. Capitalization matters.\n",
    "\n",
    "If we wish to control for case, we can use the lower method, which returns a lowercase version of the starting string. Here's an example:\n",
    "\n",
    "`\n",
    "print('DataQuest'.lower())\n",
    "`\n",
    "\n",
    "`\n",
    "dataquest\n",
    "`"
   ]
  },
  {
   "cell_type": "markdown",
   "metadata": {},
   "source": [
    "### Instructions\n",
    "\n",
    "1. Create three empty lists called `ask_posts`, `show_posts`, and `other_posts`.\n",
    "2. Loop through each row in `hn`.\n",
    "    * Assign the title in each row to a variable named `title`. \n",
    "        * Because the `title` column is the second column, you'll need to get the element at index `1` in each row.\n",
    "3. Implement the following steps:\n",
    "    * If the lowercase version of `title` starts with `ask hn`, append the row to `ask_posts`.\n",
    "    * Else, if the lowercase version of `title` starts with `show hn`, append the row to `show_posts`.\n",
    "    * Else append to `other_posts`.\n",
    "4. Check the number of posts in `ask_posts`, `show_posts`, and `other_posts`."
   ]
  },
  {
   "cell_type": "code",
   "execution_count": 3,
   "metadata": {},
   "outputs": [
    {
     "name": "stdout",
     "output_type": "stream",
     "text": [
      "1744\n",
      "1162\n",
      "17194\n"
     ]
    }
   ],
   "source": [
    "# Creating empty lists\n",
    "ask_posts = []\n",
    "show_posts = []\n",
    "other_posts = []\n",
    "\n",
    "# Loop through hn:\n",
    "for row in hn:\n",
    "    title = row[1]\n",
    "    title = title.lower()\n",
    "    if title.startswith('ask hn'):\n",
    "        ask_posts.append(row)\n",
    "    elif title.startswith('show hn'):\n",
    "        show_posts.append(row)\n",
    "    else:\n",
    "        other_posts.append(row)\n",
    "\n",
    "# Check number of posts in ask_posts, show_posts, other_posts\n",
    "print(len(ask_posts))\n",
    "print(len(show_posts))\n",
    "print(len(other_posts))"
   ]
  },
  {
   "cell_type": "markdown",
   "metadata": {},
   "source": [
    "## Calculating the Average Number of Comments for Ask HN and Show HN Posts\n",
    "\n",
    "On the previous screen, we separated the \"ask posts\" and the \"show posts\" into two lists of lists named ask_posts and show_posts. Below are the first five rows in the ask_posts list of lists:\n",
    "\n",
    "`\n",
    "[\n",
    "    ['12296411', 'Ask HN: How to improve my personal website?', '', '2', '6', 'ahmedbaracat', '8/16/2016 9:55'], \n",
    "    ['10610020', 'Ask HN: Am I the only one outraged by Twitter shutting down share counts?', '', '28', '29', 'tkfx', '11/22/2015 13:43'], \n",
    "    ['11610310', 'Ask HN: Aby recent changes to CSS that broke mobile?', '', '1', '1', 'polskibus', '5/2/2016', 10:14'], \n",
    "    ['12210105', 'Ask HN: Looking for Employee #3 How do I do it?', '', '1', '3', 'sph130', '8/2/2016 14:20'], \n",
    "    ['10394168', 'Ask HN: Someone offered to buy my browser extension from me. What now?', '', '28', '17', 'roykolak', '10/15/2015 16:38']\n",
    "]\n",
    "`\n",
    "\n",
    "Below are the first five rows in the show_posts list of lists:\n",
    "\n",
    "`\n",
    "[\n",
    "    ['10627194', 'Show HN: Wio Link  ESP8266 Based Web of Things Hardware Development Platform', 'https://iot.seeed.cc', '26', '22', 'kfihihc', '11/25/2015 14:03'], \n",
    "    ['10646440', 'Show HN: Something pointless I made', 'http://dn.ht/picklecat/', '747', '102', 'dhotson', '11/29/2015 22:46'], \n",
    "    ['11590768', 'Show HN: Shanhu.io, a programming playground powered by e8vm', 'https://shanhu.io', '1', '1', 'h8liu', '4/28/2016 18:05'], \n",
    "    ['12178806', 'Show HN: Webscope  Easy way for web developers to communicate with Clients', 'http://webscopeapp.com', '3', '3', 'fastbrick', '7/28/2016 7:11'], \n",
    "    ['10872799', 'Show HN: GeoScreenshot  Easily test Geo-IP based web pages', 'https://www.geoscreenshot.com/', '1', '9', 'kpsychwave', '1/9/2016 20:45']\n",
    "]\n",
    "`"
   ]
  },
  {
   "cell_type": "markdown",
   "metadata": {},
   "source": [
    "### Instructions\n",
    "\n",
    "1. Find the total number of comments in ask posts, and assign it to `total_ask_comments`.\n",
    "    * Set `total_ask_comments` to `0`.\n",
    "2. Use a for loop to iterate over the ask posts.\n",
    "    * Because the `num_comments` column is the fifth column in `ask_posts`, you'll need to get the element at index `4` in each row.\n",
    "        * You'll also need to convert the value to an integer so that we can calculate the sum of all the comments.\n",
    "        * Add this value to `total_ask_comments`.\n",
    "3. Compute the average number of comments on ask posts, and assign it to `avg_ask_comments`.\n",
    "4. Print `avg_ask_comments`.\n",
    "5. Find the total number of comments in show posts, and assign it to `total_show_comments`.\n",
    "    * Set `total_show_comments` to `0`.\n",
    "6. Use a for loop to iterate over the show posts.\n",
    "    * Because the `num_comments` column is the fifth column in `show_posts`, you'll need to get the element at index `4` in each row.\n",
    "        * You'll also need to convert the value to an integer so that we can calculate the sum of all the comments.\n",
    "        * Add this value to `total_show_comments`.\n",
    "7. Compute the average number of comments on show posts, and assign it to `avg_show_comments`.\n",
    "8. Print `avg_show_comments`.\n",
    "9. Do show posts or ask posts receive more comments on average? Write a markdown cell explaining your findings."
   ]
  },
  {
   "cell_type": "code",
   "execution_count": 4,
   "metadata": {},
   "outputs": [
    {
     "name": "stdout",
     "output_type": "stream",
     "text": [
      "The average number of ask comments is: 14.038417431192661\n"
     ]
    }
   ],
   "source": [
    "# Set total_ask_comments to 0\n",
    "total_ask_comments = 0\n",
    "\n",
    "# Loop over ask_posts\n",
    "for row in ask_posts:\n",
    "    num_ask_comments = int(row[4])\n",
    "    total_ask_comments += num_ask_comments\n",
    "\n",
    "# Compute average of number of ask_posts\n",
    "avg_ask_comments = total_ask_comments / len(ask_posts)\n",
    "\n",
    "# Print avg_ask_comments\n",
    "print(\"The average number of ask comments is:\", avg_ask_comments)"
   ]
  },
  {
   "cell_type": "code",
   "execution_count": 5,
   "metadata": {},
   "outputs": [
    {
     "name": "stdout",
     "output_type": "stream",
     "text": [
      "The average number of show comments is: 10.31669535283993\n"
     ]
    }
   ],
   "source": [
    "# Set total_show_comments to 0\n",
    "total_show_comments = 0\n",
    "\n",
    "# Loop over show_posts\n",
    "for row in show_posts:\n",
    "    num_show_comments = int(row[4])\n",
    "    total_show_comments += num_show_comments\n",
    "\n",
    "# Compute average of number of show_posts\n",
    "avg_show_comments = total_show_comments / len(show_posts)\n",
    "\n",
    "# Print avg_show_comments\n",
    "print(\"The average number of show comments is:\", avg_show_comments)"
   ]
  },
  {
   "cell_type": "markdown",
   "metadata": {},
   "source": [
    "The average number of ask comments is rouhgly 14 (rounded to nearest integer) and the average number of show comments is roughly 10 (rounded to nearest integer). This means on average, there are more ask comments than show comments"
   ]
  },
  {
   "cell_type": "markdown",
   "metadata": {},
   "source": [
    "## Finding the Number of Ask Posts and Comments by Hour Created\n",
    "\n",
    "We'll determine if ask posts created at a certain time are more likely to attract comments. We'll use the following steps to perform this analysis:\n",
    "\n",
    "1. Calculate the number of ask posts created in each hour of the day, along with the number of comments received.\n",
    "2. Calculate the average number of comments ask posts receive by hour created. \n",
    "\n",
    "We'll use the [`datetime` module](https://docs.python.org/3/library/datetime.html) to work with the data in the `created_at` column.\n",
    "\n",
    "Recall that we can use the `datetime.strptime()` constructor to parse dates stored as strings and return datetime objects:\n",
    "\n",
    "`\n",
    "date_1_str = \"December 24, 1984\"\n",
    "date_1_dt = dt.datetime.strptime(date_1_str, \"%B %d, %Y\")\n",
    "`\n",
    "\n",
    "Note in the example above that `%B` represents the full name of the month, `%d` represents a two-digit day, and `%Y` represents the four-digit year. If you need to parse a string in a different format, you'll have to modify these codes."
   ]
  },
  {
   "cell_type": "markdown",
   "metadata": {},
   "source": [
    "### Instructions\n",
    "\n",
    "1. Import the `datetime` module as `dt`.\n",
    "2. Create an empty list, and assign it to `result_list`. This will be a list of lists.\n",
    "3. Iterate over `ask_posts`, and append to `result_list` a list with two elements:\n",
    "    * The first element should be the column `created_at`.\n",
    "        * Because the `created_at` column is the seventh column in `ask_posts`, you'll need to get the element at index `6` in each row. \n",
    "    * The second element should be the number of comments of the post.\n",
    "        * You'll also need to convert the value to an integer.\n",
    "4. Create two empty dictionaries called `counts_by_hour` and `comments_by_hour`.\n",
    "5. Loop through each row of `result_list`.\n",
    "6. Extract the hour from the date, which is the first element of the row.\n",
    "7. Use the `datetime.strptime()` method to parse the date and create a datetime object.\n",
    "8.  Use the string we want to parse as the first argument and a string that specifies the format as the second argument.\n",
    "    * Use the datetime.strftime() method to select just the hour from the datetime object.\n",
    "    * __If the hour isn't__ a key in `counts_by_hour`:\n",
    "        * Create the key in `counts_by_hour`, and set it equal to `1`.\n",
    "        * Create the key in `comments_by_hour`, and set it equal to the `comment` number.\n",
    "    * __If the hour is__ already a key in `counts_by_hour`:\n",
    "        * Increment the value in `counts_by_hour` by `1`.\n",
    "        * Increment the value in `comments_by_hour` by the `comment` number."
   ]
  },
  {
   "cell_type": "code",
   "execution_count": 6,
   "metadata": {},
   "outputs": [
    {
     "name": "stdout",
     "output_type": "stream",
     "text": [
      "Counts by hour dictionary: \n",
      " {'09': 45, '13': 85, '10': 59, '14': 107, '16': 108, '23': 68, '12': 73, '17': 100, '15': 116, '21': 109, '20': 80, '02': 58, '18': 109, '03': 54, '05': 46, '19': 110, '01': 60, '22': 71, '08': 48, '04': 47, '00': 55, '06': 44, '07': 34, '11': 58}\n",
      "Comments by hour dictionary: \n",
      " {'09': 251, '13': 1253, '10': 793, '14': 1416, '16': 1814, '23': 543, '12': 687, '17': 1146, '15': 4477, '21': 1745, '20': 1722, '02': 1381, '18': 1439, '03': 421, '05': 464, '19': 1188, '01': 683, '22': 479, '08': 492, '04': 337, '00': 447, '06': 397, '07': 267, '11': 641}\n"
     ]
    }
   ],
   "source": [
    "# Import datetime module as dt\n",
    "import datetime as dt\n",
    "\n",
    "# Create empty list and assign to result\n",
    "result_list = []\n",
    "\n",
    "# Iterate over ask_posts and then append to results_list\n",
    "for row in ask_posts:\n",
    "    # Create_at and number of comments columns\n",
    "    created_at = row[6]\n",
    "    num_ask_comments = int(row[4])\n",
    "    # Append to results_list\n",
    "    result_list.append([created_at, num_ask_comments])\n",
    "\n",
    "# Create empty dictionaries\n",
    "counts_by_hour = {}\n",
    "comments_by_hour = {}\n",
    "\n",
    "# Loop over result_list\n",
    "for row in result_list:\n",
    "    # Create datetime object using first element\n",
    "    dt_object = row[0]\n",
    "    # Use the string we want to parse as the first agrument and the a string that specifies the format as the second argument\n",
    "    dt_string = dt.datetime.strptime(dt_object, \"%m/%d/%Y %H:%M\")\n",
    "    # Selecting just the hour\n",
    "    hour = dt_string.strftime(\"%H\")\n",
    "    # Add to dictionaries\n",
    "    if hour not in counts_by_hour:\n",
    "        counts_by_hour[hour] = 1\n",
    "        comments_by_hour[hour] = row[1]\n",
    "    else:\n",
    "        counts_by_hour[hour] += 1\n",
    "        comments_by_hour[hour] += row[1]\n",
    "\n",
    "# Check dictionaries\n",
    "print(\"Counts by hour dictionary:\", '\\n', counts_by_hour)\n",
    "print(\"Comments by hour dictionary:\", '\\n', comments_by_hour)"
   ]
  },
  {
   "cell_type": "markdown",
   "metadata": {},
   "source": [
    "## Calculating the Average Number of Comments for Ask HN Posts by Hour\n",
    "\n",
    "We'll use these two dictionaries to calculate the average number of comments for posts created during each hour of the day. \n",
    "\n",
    "To illustrate the technique, let's work with the following dictionary:\n",
    "\n",
    "`\n",
    "sample_dict = {\n",
    "                'apple': 2, \n",
    "                'banana': 4, \n",
    "                'orange': 6\n",
    "               }\n",
    "`\n",
    "\n",
    "Suppose we wanted to multiply each of the values by ten and return the results as a list of lists. We can use the following code:\n",
    "\n",
    "`\n",
    "fruits = []\n",
    "`\n",
    "\n",
    "`\n",
    "for fruit in sample_dict:\n",
    "    fruits.append([fruit, 10*sample_dict[fruit]])\n",
    "`\n",
    "\n",
    "Below are the results:\n",
    "\n",
    "`\n",
    "[['apple', 20], ['banana', 40], ['orange', 60]]\n",
    "`\n",
    "\n",
    "In the example above, we did the following:\n",
    "\n",
    "* Initialized an empty list (of lists) and assigned it to `fruits`.\n",
    "* Iterated over the keys of `sample_dict` and appended to `fruits` a list with the following attributes:\n",
    "    * The first element is the key from `sample_dict`.\n",
    "    * The second element is the value corresponding to that key multiplied by ten."
   ]
  },
  {
   "cell_type": "markdown",
   "metadata": {},
   "source": [
    "### Instructions\n",
    "\n",
    "1. Use the example above to calculate the average number of comments per post for posts created during each hour of the day.\n",
    "2. The result should be a list of lists in which the first element is the hour and the second element is the average number of comments per post. Assign the result to a variable named `avg_by_hour`. Display the results."
   ]
  },
  {
   "cell_type": "code",
   "execution_count": 7,
   "metadata": {},
   "outputs": [
    {
     "name": "stdout",
     "output_type": "stream",
     "text": [
      "[['09', 5.5777777777777775], ['13', 14.741176470588234], ['10', 13.440677966101696], ['14', 13.233644859813085], ['16', 16.796296296296298], ['23', 7.985294117647059], ['12', 9.41095890410959], ['17', 11.46], ['15', 38.5948275862069], ['21', 16.009174311926607], ['20', 21.525], ['02', 23.810344827586206], ['18', 13.20183486238532], ['03', 7.796296296296297], ['05', 10.08695652173913], ['19', 10.8], ['01', 11.383333333333333], ['22', 6.746478873239437], ['08', 10.25], ['04', 7.170212765957447], ['00', 8.127272727272727], ['06', 9.022727272727273], ['07', 7.852941176470588], ['11', 11.051724137931034]]\n"
     ]
    }
   ],
   "source": [
    "# Create empty list\n",
    "avg_by_hour = []\n",
    "total_comments = 0\n",
    "\n",
    "for hour, comment in comments_by_hour.items():\n",
    "    avg_by_hour.append([hour, comments_by_hour[hour]/counts_by_hour[hour]])\n",
    "    \n",
    "# Print results\n",
    "print(avg_by_hour)"
   ]
  },
  {
   "cell_type": "markdown",
   "metadata": {},
   "source": [
    "## Sorting and Printing Values from a List of Lists\n",
    "\n",
    "Although we now have the results we need, this format makes it difficult to identify the hours with the highest values."
   ]
  },
  {
   "cell_type": "markdown",
   "metadata": {},
   "source": [
    "### Instructions\n",
    "\n",
    "1. Create a list that equals `avg_by_hour` with swapped columns.\n",
    "    * Create an empty list and assign it to `swap_avg_by_hour`.\n",
    "    * Iterate over the rows of `avg_by_hour`, and append to `swap_avg_by_hour` a list whose first element is the second element of the row, and whose second element is the first element of the row.\n",
    "2. Print `swap_avg_by_hour`.\n",
    "3. Use the [`sorted()` function](https://docs.python.org/3/library/functions.html#sorted) to sort `swap_avg_by_hour` in descending order. Since the first column of this list is the average number of comments, sorting the list will sort by the average number of comments.\n",
    "    * Set the `reverse` argument to `True`, so that the highest value in the first column appears first in the list. \n",
    "    * Assign the result to `sorted_swap`.\n",
    "4. Print the string \"Top 5 Hours for Ask Posts Comments\".\n",
    "5. Loop through each average and each hour (in this order) in the first five lists of `sorted_swap`.\n",
    "6. Use the [`str.format()` method](https://docs.python.org/3/library/stdtypes.html#str.format) to print the hour and average in the following format: `15:00: 38.59 average comments per post`.\n",
    "    * To format the hours, use the `datetime.strptime()` constructor to return a datetime object, and then use the `strftime()` method to specify the format of the time.\n",
    "    * To format the average, you can use `{:.2f}` to indicate only two decimal places.\n",
    "7. During which hours should you create a post to have a higher chance of receiving comments?"
   ]
  },
  {
   "cell_type": "code",
   "execution_count": 8,
   "metadata": {},
   "outputs": [
    {
     "name": "stdout",
     "output_type": "stream",
     "text": [
      "[[5.5777777777777775, '09'], [14.741176470588234, '13'], [13.440677966101696, '10'], [13.233644859813085, '14'], [16.796296296296298, '16'], [7.985294117647059, '23'], [9.41095890410959, '12'], [11.46, '17'], [38.5948275862069, '15'], [16.009174311926607, '21'], [21.525, '20'], [23.810344827586206, '02'], [13.20183486238532, '18'], [7.796296296296297, '03'], [10.08695652173913, '05'], [10.8, '19'], [11.383333333333333, '01'], [6.746478873239437, '22'], [10.25, '08'], [7.170212765957447, '04'], [8.127272727272727, '00'], [9.022727272727273, '06'], [7.852941176470588, '07'], [11.051724137931034, '11']]\n"
     ]
    }
   ],
   "source": [
    "# Create empty list\n",
    "swap_avg_by_hour = []\n",
    "\n",
    "# Iterate over avg_by_hour\n",
    "for row in avg_by_hour:\n",
    "    swap_avg_by_hour.append([row[1], row[0]])\n",
    "print(swap_avg_by_hour)"
   ]
  },
  {
   "cell_type": "code",
   "execution_count": 9,
   "metadata": {},
   "outputs": [
    {
     "name": "stdout",
     "output_type": "stream",
     "text": [
      "[[38.5948275862069, '15'], [23.810344827586206, '02'], [21.525, '20'], [16.796296296296298, '16'], [16.009174311926607, '21'], [14.741176470588234, '13'], [13.440677966101696, '10'], [13.233644859813085, '14'], [13.20183486238532, '18'], [11.46, '17'], [11.383333333333333, '01'], [11.051724137931034, '11'], [10.8, '19'], [10.25, '08'], [10.08695652173913, '05'], [9.41095890410959, '12'], [9.022727272727273, '06'], [8.127272727272727, '00'], [7.985294117647059, '23'], [7.852941176470588, '07'], [7.796296296296297, '03'], [7.170212765957447, '04'], [6.746478873239437, '22'], [5.5777777777777775, '09']]\n"
     ]
    }
   ],
   "source": [
    "# Use sorted function to sort in descending order\n",
    "sorted_swap = sorted(swap_avg_by_hour, reverse = True) # Set reverse to true so highest value is first\n",
    "print(sorted_swap) # Check to make it worked"
   ]
  },
  {
   "cell_type": "code",
   "execution_count": 10,
   "metadata": {},
   "outputs": [
    {
     "name": "stdout",
     "output_type": "stream",
     "text": [
      "Top 5 Hours for Ask Posts Comments\n",
      "15:00: 38.59 average comments per post\n",
      "02:00: 23.81 average comments per post\n",
      "20:00: 21.52 average comments per post\n",
      "16:00: 16.80 average comments per post\n",
      "21:00: 16.01 average comments per post\n"
     ]
    }
   ],
   "source": [
    "# Print string \"Top 5 Hours for Ask Posts Comments\"\n",
    "print(\"Top 5 Hours for Ask Posts Comments\")\n",
    "\n",
    "# Loop through each average and each hour (in that order)\n",
    "import datetime as dt\n",
    "for avg, hour in sorted_swap[:5]:\n",
    "    hour_object = dt.datetime.strptime(hour, \"%H\")\n",
    "    time = hour_object.strftime(\"%H:%M\")\n",
    "    print(\"{t}: {n:.2f} average comments per post\".format(t=time, n=avg))"
   ]
  },
  {
   "cell_type": "markdown",
   "metadata": {},
   "source": [
    "Based on the table above, it seems that posts at 3:00pm est have the highest average comments than any other time"
   ]
  },
  {
   "cell_type": "markdown",
   "metadata": {},
   "source": [
    "## Conclusions\n",
    "\n",
    "We analysed user posts on the Hacker news website by sperating the 'Ask HN' and 'Show HN' posts from the rest of the posts on Hacker news. To determine the most optimal time of the day to send posts we compared the average number of posts per Ask post and the average number of posts per per ask posts per hour post was created.\n",
    "\n",
    "The results indicated that Ask HN posts created at 3:00pm est will attract the most users interactions on average."
   ]
  }
 ],
 "metadata": {
  "kernelspec": {
   "display_name": "Python 3",
   "language": "python",
   "name": "python3"
  },
  "language_info": {
   "codemirror_mode": {
    "name": "ipython",
    "version": 3
   },
   "file_extension": ".py",
   "mimetype": "text/x-python",
   "name": "python",
   "nbconvert_exporter": "python",
   "pygments_lexer": "ipython3",
   "version": "3.8.2"
  }
 },
 "nbformat": 4,
 "nbformat_minor": 2
}
